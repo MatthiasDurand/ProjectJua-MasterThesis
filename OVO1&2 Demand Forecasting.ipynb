{
 "cells": [
  {
   "cell_type": "code",
   "execution_count": null,
   "metadata": {},
   "outputs": [
    {
     "name": "stderr",
     "output_type": "stream",
     "text": [
      "/anaconda3/lib/python3.7/site-packages/IPython/core/interactiveshell.py:3331: DtypeWarning: Columns (3,4,5,6,7) have mixed types.Specify dtype option on import or set low_memory=False.\n",
      "  exec(code_obj, self.user_global_ns, self.user_ns)\n"
     ]
    }
   ],
   "source": [
    "#There are some non-float type in the file, especially in the last file (Winner)\n",
    "import numpy as np\n",
    "import pandas as pd\n",
    "from matplotlib import pyplot as plt\n",
    "import time\n",
    "import datetime\n",
    "from datetime import datetime\n",
    "import calendar\n",
    "import os\n",
    "from glob import glob\n",
    "import ICLProjectFunctionsOVO2MD as f\n",
    "import ICLProjectFunctionsOVO2MDBatch2 as f2\n",
    "import ICLProjectFunctionsOVO2MDBatch3 as f3\n",
    "import ICLProjectFunctions2 as f1"
   ]
  },
  {
   "cell_type": "code",
   "execution_count": null,
   "metadata": {},
   "outputs": [],
   "source": [
    "#OVO2 BATCH1\n",
    "PATH1 = '/Users/MatthiasDurand/Desktop/Imperial College/Master Thesis Project/Exported Data/OVO2 DATA'\n",
    "RESULT_All1,RESULT_Concat1,NAMING1 = f.Exportation(PATH1)"
   ]
  },
  {
   "cell_type": "code",
   "execution_count": null,
   "metadata": {},
   "outputs": [],
   "source": [
    "#OVO2 BATCH2\n",
    "PATH2 = '/Users/MatthiasDurand/Desktop/Imperial College/Master Thesis Project/Exported Data/OVO2 DATA BATCH 2'\n",
    "RESULT_All2,RESULT_Concat2,NAMING2 = f3.Exportation(PATH2)"
   ]
  },
  {
   "cell_type": "code",
   "execution_count": null,
   "metadata": {},
   "outputs": [],
   "source": [
    "#OVO2 BATCH3\n",
    "PATH3 = '/Users/MatthiasDurand/Desktop/Imperial College/Master Thesis Project/Exported Data/OVO2 DATA BATCH 3'\n",
    "RESULT_All3,RESULT_Concat3,NAMING3 = f3.Exportation(PATH3)\n",
    "#NAMING3 = NAMING3[1:len(NAMING3)] #For un unknown reason, a mistake value appeared in values NAMING3[0]"
   ]
  },
  {
   "cell_type": "code",
   "execution_count": null,
   "metadata": {},
   "outputs": [],
   "source": [
    "nameOVO2 = []\n",
    "dfOVO2 = []\n",
    "\n",
    "for i in range (len(RESULT_Concat1)):\n",
    "    if i not in [1,14,16,19,38,28,41]:\n",
    "        nameOVO2.append(NAMING1[i])\n",
    "        dfOVO2.append(RESULT_Concat1[i])\n",
    "for i in range (len(RESULT_Concat2)):\n",
    "    if i not in [11,16,17]:\n",
    "        nameOVO2.append(NAMING2[i])\n",
    "        dfOVO2.append(RESULT_Concat2[i])\n",
    "for i in range (len(RESULT_Concat3)):\n",
    "    if i not in [20,21,23,29,31,41]:\n",
    "        nameOVO2.append(NAMING3[i])\n",
    "        dfOVO2.append(RESULT_Concat3[i])\n",
    "\n",
    "School1_Clinic0 = np.ones([len(nameOVO2)])\n",
    "for i in range (len(nameOVO2)):\n",
    "    if 'DISPENSARY' in nameOVO2[i] or 'DISP' in nameOVO2[i]:\n",
    "        School1_Clinic0[i] = 0\n",
    "BatterySmall1_Big0 = np.zeros([len(dfOVO2)])\n",
    "CountSchool = 0\n",
    "for i in range (len(dfOVO2)):\n",
    "    if f.Daily_Profile(dfOVO2[i])['Battery Voltage'].min()<37.0:\n",
    "        BatterySmall1_Big0[i] = 1\n",
    "        CountSchool+=1\n",
    "CountSchool"
   ]
  },
  {
   "cell_type": "code",
   "execution_count": null,
   "metadata": {},
   "outputs": [],
   "source": [
    "#OVO1:\n",
    "PATH01 = '/Users/MatthiasDurand/Desktop/Imperial College/Master Thesis Project/Exported Data/OVO1 PROJECT DATA V2'\n",
    "RESULT_All01,RESULT_Concat01,NAMING01 = f1.Exportation(PATH01)\n",
    "PATH02 = '/Users/MatthiasDurand/Desktop/Imperial College/Master Thesis Project/Exported Data/OVO1 PROJECT DATA/OVO1 PROJECT RMS DATA'\n",
    "RESULT_All02,RESULT_Concat02,NAMING02 = f1.Exportation(PATH02)"
   ]
  },
  {
   "cell_type": "code",
   "execution_count": null,
   "metadata": {},
   "outputs": [],
   "source": [
    "#OVO1\n",
    "for i in range (len(NAMING01)):\n",
    "    for j in range (len(NAMING02)):\n",
    "        if (NAMING01[i]==NAMING02[j]):\n",
    "            df = pd.concat([RESULT_Concat01[i],RESULT_Concat02[j]])\n",
    "            RESULT_Concat01[i] = df.resample('1H').mean()\n",
    "nameOVO1 = []\n",
    "dfOVO1 = []\n",
    "for i in range (len(RESULT_Concat01)):\n",
    "    if i not in [2,8,10]:\n",
    "        nameOVO1.append(NAMING01[i])\n",
    "        dfOVO1.append(RESULT_Concat01[i])"
   ]
  },
  {
   "cell_type": "markdown",
   "metadata": {},
   "source": [
    "### All data have been exported and cleaned"
   ]
  },
  {
   "cell_type": "markdown",
   "metadata": {},
   "source": [
    "# 1. Potential Correlation between power consumption and schools' input criteria"
   ]
  },
  {
   "cell_type": "markdown",
   "metadata": {},
   "source": [
    "## 1.1. Exportation of the Matrix, and cleaning of the input criteria"
   ]
  },
  {
   "cell_type": "code",
   "execution_count": null,
   "metadata": {},
   "outputs": [],
   "source": [
    "Matrix2 = pd.read_csv('/Users/MatthiasDurand/Desktop/Imperial College/Master Thesis Project/Exported Data/OVO2 Schools.csv')"
   ]
  },
  {
   "cell_type": "code",
   "execution_count": null,
   "metadata": {},
   "outputs": [],
   "source": [
    "Matrix1 = pd.read_csv('/Users/MatthiasDurand/Desktop/Imperial College/Master Thesis Project/Exported Data/TestJulySchoolsCSV.csv')"
   ]
  },
  {
   "cell_type": "code",
   "execution_count": null,
   "metadata": {},
   "outputs": [],
   "source": [
    "#This code has to be run once only!\n",
    "County = np.zeros([len(Matrix1)])\n",
    "for i in range (len(Matrix1)):\n",
    "    if (Matrix1['County'][i]==('Kilifi')): \n",
    "        County[i] = 1\n",
    "    else:\n",
    "        County[i] = 0\n",
    "Matrix1['County'] = County\n",
    "\n",
    "Grid = np.zeros([len(Matrix1)])\n",
    "for i in range (len(Matrix1)):\n",
    "    if (Matrix1['Grid'][i]=='no'): \n",
    "        Grid[i] = 1\n",
    "    else:\n",
    "        Grid[i] = 0\n",
    "Matrix1['Grid'] = Grid\n",
    "\n",
    "Source = np.zeros([len(Matrix1)])\n",
    "for i in range (len(Matrix1)):\n",
    "    if (Matrix1['Source of power'][i]=='solar_panels'): \n",
    "        Source[i] = 1\n",
    "    if (Matrix1['Source of power'][i]=='grid solar_panels other'): \n",
    "        Source[i] = 2\n",
    "    if (Matrix1['Source of power'][i]=='grid solar_panels'):\n",
    "        Source[i] = 3\n",
    "    if (Matrix1['Source of power'][i]=='diesel_generat'): \n",
    "        Source[i] = 4\n",
    "Matrix1['Source of power'] = Source"
   ]
  },
  {
   "cell_type": "code",
   "execution_count": 318,
   "metadata": {},
   "outputs": [
    {
     "data": {
      "text/html": [
       "<div>\n",
       "<style scoped>\n",
       "    .dataframe tbody tr th:only-of-type {\n",
       "        vertical-align: middle;\n",
       "    }\n",
       "\n",
       "    .dataframe tbody tr th {\n",
       "        vertical-align: top;\n",
       "    }\n",
       "\n",
       "    .dataframe thead th {\n",
       "        text-align: right;\n",
       "    }\n",
       "</style>\n",
       "<table border=\"1\" class=\"dataframe\">\n",
       "  <thead>\n",
       "    <tr style=\"text-align: right;\">\n",
       "      <th></th>\n",
       "      <th>Name</th>\n",
       "      <th>County</th>\n",
       "      <th>Households</th>\n",
       "      <th>Grid</th>\n",
       "      <th>Grid Distance</th>\n",
       "      <th>Source of power</th>\n",
       "      <th>Attendency</th>\n",
       "      <th>Teachers</th>\n",
       "      <th>Non-teaching Staff</th>\n",
       "      <th>Teacher Age</th>\n",
       "      <th>Tot enrollment</th>\n",
       "      <th>Total day Stud</th>\n",
       "      <th>Total Board Stud</th>\n",
       "    </tr>\n",
       "  </thead>\n",
       "  <tbody>\n",
       "    <tr>\n",
       "      <th>0</th>\n",
       "      <td>Dumuni Primary</td>\n",
       "      <td>1.0</td>\n",
       "      <td>300</td>\n",
       "      <td>1.0</td>\n",
       "      <td>4.0</td>\n",
       "      <td>0.0</td>\n",
       "      <td>97</td>\n",
       "      <td>7</td>\n",
       "      <td>2</td>\n",
       "      <td>27.0</td>\n",
       "      <td>144</td>\n",
       "      <td>144</td>\n",
       "      <td>0</td>\n",
       "    </tr>\n",
       "    <tr>\n",
       "      <th>1</th>\n",
       "      <td>Kakomani Primary</td>\n",
       "      <td>1.0</td>\n",
       "      <td>800</td>\n",
       "      <td>0.0</td>\n",
       "      <td>NaN</td>\n",
       "      <td>0.0</td>\n",
       "      <td>78</td>\n",
       "      <td>6</td>\n",
       "      <td>2</td>\n",
       "      <td>45.0</td>\n",
       "      <td>317</td>\n",
       "      <td>317</td>\n",
       "      <td>0</td>\n",
       "    </tr>\n",
       "    <tr>\n",
       "      <th>2</th>\n",
       "      <td>Migodomani Primary *</td>\n",
       "      <td>1.0</td>\n",
       "      <td>500</td>\n",
       "      <td>0.0</td>\n",
       "      <td>NaN</td>\n",
       "      <td>1.0</td>\n",
       "      <td>98</td>\n",
       "      <td>8</td>\n",
       "      <td>4</td>\n",
       "      <td>35.0</td>\n",
       "      <td>284</td>\n",
       "      <td>202</td>\n",
       "      <td>82</td>\n",
       "    </tr>\n",
       "    <tr>\n",
       "      <th>3</th>\n",
       "      <td>Mihingoni Primary</td>\n",
       "      <td>1.0</td>\n",
       "      <td>800</td>\n",
       "      <td>0.0</td>\n",
       "      <td>NaN</td>\n",
       "      <td>2.0</td>\n",
       "      <td>96</td>\n",
       "      <td>15</td>\n",
       "      <td>2</td>\n",
       "      <td>41.9</td>\n",
       "      <td>587</td>\n",
       "      <td>587</td>\n",
       "      <td>0</td>\n",
       "    </tr>\n",
       "    <tr>\n",
       "      <th>4</th>\n",
       "      <td>Mwamba Primary</td>\n",
       "      <td>1.0</td>\n",
       "      <td>400</td>\n",
       "      <td>0.0</td>\n",
       "      <td>NaN</td>\n",
       "      <td>2.0</td>\n",
       "      <td>80</td>\n",
       "      <td>8</td>\n",
       "      <td>3</td>\n",
       "      <td>38.0</td>\n",
       "      <td>167</td>\n",
       "      <td>138</td>\n",
       "      <td>29</td>\n",
       "    </tr>\n",
       "    <tr>\n",
       "      <th>5</th>\n",
       "      <td>Palakumi Primary</td>\n",
       "      <td>1.0</td>\n",
       "      <td>800</td>\n",
       "      <td>0.0</td>\n",
       "      <td>NaN</td>\n",
       "      <td>3.0</td>\n",
       "      <td>95</td>\n",
       "      <td>13</td>\n",
       "      <td>5</td>\n",
       "      <td>35.0</td>\n",
       "      <td>384</td>\n",
       "      <td>304</td>\n",
       "      <td>80</td>\n",
       "    </tr>\n",
       "    <tr>\n",
       "      <th>6</th>\n",
       "      <td>Shujaa Mekatilili Secondary</td>\n",
       "      <td>1.0</td>\n",
       "      <td>700</td>\n",
       "      <td>0.0</td>\n",
       "      <td>NaN</td>\n",
       "      <td>4.0</td>\n",
       "      <td>95</td>\n",
       "      <td>14</td>\n",
       "      <td>6</td>\n",
       "      <td>30.0</td>\n",
       "      <td>182</td>\n",
       "      <td>182</td>\n",
       "      <td>0</td>\n",
       "    </tr>\n",
       "    <tr>\n",
       "      <th>7</th>\n",
       "      <td>Winners EC Primary</td>\n",
       "      <td>1.0</td>\n",
       "      <td>400</td>\n",
       "      <td>0.0</td>\n",
       "      <td>NaN</td>\n",
       "      <td>0.0</td>\n",
       "      <td>92</td>\n",
       "      <td>7</td>\n",
       "      <td>2</td>\n",
       "      <td>33.0</td>\n",
       "      <td>143</td>\n",
       "      <td>143</td>\n",
       "      <td>0</td>\n",
       "    </tr>\n",
       "    <tr>\n",
       "      <th>8</th>\n",
       "      <td>Gambella Primary *</td>\n",
       "      <td>0.0</td>\n",
       "      <td>500</td>\n",
       "      <td>1.0</td>\n",
       "      <td>4.0</td>\n",
       "      <td>1.0</td>\n",
       "      <td>90</td>\n",
       "      <td>32</td>\n",
       "      <td>10</td>\n",
       "      <td>32.0</td>\n",
       "      <td>3219</td>\n",
       "      <td>3219</td>\n",
       "      <td>0</td>\n",
       "    </tr>\n",
       "    <tr>\n",
       "      <th>9</th>\n",
       "      <td>Horseed Primary</td>\n",
       "      <td>0.0</td>\n",
       "      <td>800</td>\n",
       "      <td>1.0</td>\n",
       "      <td>3.0</td>\n",
       "      <td>0.0</td>\n",
       "      <td>95</td>\n",
       "      <td>30</td>\n",
       "      <td>10</td>\n",
       "      <td>26.0</td>\n",
       "      <td>3038</td>\n",
       "      <td>3038</td>\n",
       "      <td>0</td>\n",
       "    </tr>\n",
       "    <tr>\n",
       "      <th>10</th>\n",
       "      <td>Kalokor Primary</td>\n",
       "      <td>0.0</td>\n",
       "      <td>700</td>\n",
       "      <td>1.0</td>\n",
       "      <td>60.0</td>\n",
       "      <td>1.0</td>\n",
       "      <td>96</td>\n",
       "      <td>10</td>\n",
       "      <td>2</td>\n",
       "      <td>25.0</td>\n",
       "      <td>177</td>\n",
       "      <td>140</td>\n",
       "      <td>37</td>\n",
       "    </tr>\n",
       "    <tr>\n",
       "      <th>11</th>\n",
       "      <td>Lake Turkana Primary</td>\n",
       "      <td>0.0</td>\n",
       "      <td>50</td>\n",
       "      <td>1.0</td>\n",
       "      <td>60.0</td>\n",
       "      <td>1.0</td>\n",
       "      <td>98</td>\n",
       "      <td>8</td>\n",
       "      <td>3</td>\n",
       "      <td>30.0</td>\n",
       "      <td>125</td>\n",
       "      <td>87</td>\n",
       "      <td>38</td>\n",
       "    </tr>\n",
       "    <tr>\n",
       "      <th>12</th>\n",
       "      <td>Lokitang Primary</td>\n",
       "      <td>0.0</td>\n",
       "      <td>300</td>\n",
       "      <td>1.0</td>\n",
       "      <td>5.0</td>\n",
       "      <td>0.0</td>\n",
       "      <td>85</td>\n",
       "      <td>31</td>\n",
       "      <td>11</td>\n",
       "      <td>26.0</td>\n",
       "      <td>4585</td>\n",
       "      <td>4585</td>\n",
       "      <td>0</td>\n",
       "    </tr>\n",
       "    <tr>\n",
       "      <th>13</th>\n",
       "      <td>Mouneal Shepell Secondary</td>\n",
       "      <td>0.0</td>\n",
       "      <td>200</td>\n",
       "      <td>0.0</td>\n",
       "      <td>NaN</td>\n",
       "      <td>4.0</td>\n",
       "      <td>0</td>\n",
       "      <td>17</td>\n",
       "      <td>18</td>\n",
       "      <td>24.0</td>\n",
       "      <td>346</td>\n",
       "      <td>0</td>\n",
       "      <td>346</td>\n",
       "    </tr>\n",
       "    <tr>\n",
       "      <th>14</th>\n",
       "      <td>Shambe Primary</td>\n",
       "      <td>0.0</td>\n",
       "      <td>200</td>\n",
       "      <td>0.0</td>\n",
       "      <td>NaN</td>\n",
       "      <td>0.0</td>\n",
       "      <td>92</td>\n",
       "      <td>26</td>\n",
       "      <td>9</td>\n",
       "      <td>24.0</td>\n",
       "      <td>2162</td>\n",
       "      <td>2162</td>\n",
       "      <td>0</td>\n",
       "    </tr>\n",
       "    <tr>\n",
       "      <th>15</th>\n",
       "      <td>Somali Bantu Secondary</td>\n",
       "      <td>0.0</td>\n",
       "      <td>3000</td>\n",
       "      <td>1.0</td>\n",
       "      <td>12.0</td>\n",
       "      <td>0.0</td>\n",
       "      <td>80</td>\n",
       "      <td>29</td>\n",
       "      <td>12</td>\n",
       "      <td>28.0</td>\n",
       "      <td>1325</td>\n",
       "      <td>1325</td>\n",
       "      <td>0</td>\n",
       "    </tr>\n",
       "  </tbody>\n",
       "</table>\n",
       "</div>"
      ],
      "text/plain": [
       "                           Name  County  Households  Grid  Grid Distance  \\\n",
       "0                Dumuni Primary     1.0         300   1.0            4.0   \n",
       "1              Kakomani Primary     1.0         800   0.0            NaN   \n",
       "2          Migodomani Primary *     1.0         500   0.0            NaN   \n",
       "3             Mihingoni Primary     1.0         800   0.0            NaN   \n",
       "4                Mwamba Primary     1.0         400   0.0            NaN   \n",
       "5              Palakumi Primary     1.0         800   0.0            NaN   \n",
       "6   Shujaa Mekatilili Secondary     1.0         700   0.0            NaN   \n",
       "7            Winners EC Primary     1.0         400   0.0            NaN   \n",
       "8            Gambella Primary *     0.0         500   1.0            4.0   \n",
       "9               Horseed Primary     0.0         800   1.0            3.0   \n",
       "10              Kalokor Primary     0.0         700   1.0           60.0   \n",
       "11         Lake Turkana Primary     0.0          50   1.0           60.0   \n",
       "12             Lokitang Primary     0.0         300   1.0            5.0   \n",
       "13    Mouneal Shepell Secondary     0.0         200   0.0            NaN   \n",
       "14               Shambe Primary     0.0         200   0.0            NaN   \n",
       "15       Somali Bantu Secondary     0.0        3000   1.0           12.0   \n",
       "\n",
       "    Source of power  Attendency  Teachers  Non-teaching Staff  Teacher Age  \\\n",
       "0               0.0          97         7                   2         27.0   \n",
       "1               0.0          78         6                   2         45.0   \n",
       "2               1.0          98         8                   4         35.0   \n",
       "3               2.0          96        15                   2         41.9   \n",
       "4               2.0          80         8                   3         38.0   \n",
       "5               3.0          95        13                   5         35.0   \n",
       "6               4.0          95        14                   6         30.0   \n",
       "7               0.0          92         7                   2         33.0   \n",
       "8               1.0          90        32                  10         32.0   \n",
       "9               0.0          95        30                  10         26.0   \n",
       "10              1.0          96        10                   2         25.0   \n",
       "11              1.0          98         8                   3         30.0   \n",
       "12              0.0          85        31                  11         26.0   \n",
       "13              4.0           0        17                  18         24.0   \n",
       "14              0.0          92        26                   9         24.0   \n",
       "15              0.0          80        29                  12         28.0   \n",
       "\n",
       "    Tot enrollment  Total day Stud  Total Board Stud  \n",
       "0              144             144                 0  \n",
       "1              317             317                 0  \n",
       "2              284             202                82  \n",
       "3              587             587                 0  \n",
       "4              167             138                29  \n",
       "5              384             304                80  \n",
       "6              182             182                 0  \n",
       "7              143             143                 0  \n",
       "8             3219            3219                 0  \n",
       "9             3038            3038                 0  \n",
       "10             177             140                37  \n",
       "11             125              87                38  \n",
       "12            4585            4585                 0  \n",
       "13             346               0               346  \n",
       "14            2162            2162                 0  \n",
       "15            1325            1325                 0  "
      ]
     },
     "execution_count": 318,
     "metadata": {},
     "output_type": "execute_result"
    }
   ],
   "source": [
    "Matrix1"
   ]
  },
  {
   "cell_type": "code",
   "execution_count": 268,
   "metadata": {},
   "outputs": [],
   "source": [
    "L = Matrix1['Name']\n",
    "del Matrix1['Name']"
   ]
  },
  {
   "cell_type": "code",
   "execution_count": 269,
   "metadata": {},
   "outputs": [],
   "source": [
    "Matrix1 = (Matrix1 - Matrix1.min())/(Matrix1.max()-Matrix1.min())"
   ]
  },
  {
   "cell_type": "code",
   "execution_count": 270,
   "metadata": {},
   "outputs": [],
   "source": [
    "Matrix1['Name'] = L\n",
    "Matrix1 = Matrix1.set_index(Matrix1['Name'])"
   ]
  },
  {
   "cell_type": "code",
   "execution_count": 271,
   "metadata": {},
   "outputs": [],
   "source": [
    "#This program allows to add the power production/consumption for all the schools in the Matrix Table\n",
    "Cons = np.zeros([len(Matrix1)])\n",
    "Prod = np.zeros([len(Matrix1)])\n",
    "for i in range (len(nameOVO1)):\n",
    "    for j in range (len(Matrix1)):\n",
    "        if (nameOVO1[i].split()[0] == Matrix1['Name'][j].split()[0].upper()):\n",
    "            #print(Matrix['Name'][j], nameOVO1[i])\n",
    "            Cons[j] = f.Daily_Mean_Power(dfOVO1[i])[0]\n",
    "            Prod[j] = f.Daily_Mean_Power(dfOVO1[i])[1]\n",
    "Matrix1['Power Consumption'] = Cons\n",
    "Matrix1['Power Production'] = Prod\n",
    "del Matrix1['Name']"
   ]
  },
  {
   "cell_type": "code",
   "execution_count": 272,
   "metadata": {},
   "outputs": [
    {
     "data": {
      "text/plain": [
       "County               -0.203881\n",
       "Households           -0.066075\n",
       "Grid                  0.264303\n",
       "Grid Distance         0.008076\n",
       "Source of power      -0.248045\n",
       "Attendency            0.260722\n",
       "Teachers              0.197771\n",
       "Non-teaching Staff    0.002290\n",
       "Teacher Age          -0.153132\n",
       "Tot enrollment        0.278259\n",
       "Total day Stud        0.293185\n",
       "Total Board Stud     -0.324525\n",
       "Power Consumption     1.000000\n",
       "Power Production      0.845928\n",
       "Name: Power Consumption, dtype: float64"
      ]
     },
     "execution_count": 272,
     "metadata": {},
     "output_type": "execute_result"
    }
   ],
   "source": [
    "Matrix1.corr()['Power Consumption']"
   ]
  },
  {
   "cell_type": "code",
   "execution_count": 259,
   "metadata": {},
   "outputs": [
    {
     "data": {
      "text/plain": [
       "[<matplotlib.lines.Line2D at 0x161c3dcf8>]"
      ]
     },
     "execution_count": 259,
     "metadata": {},
     "output_type": "execute_result"
    },
    {
     "data": {
      "image/png": "[encoded data removed]",
      "text/plain": [
       "<Figure size 432x288 with 1 Axes>"
      ]
     },
     "metadata": {
      "needs_background": "light"
     },
     "output_type": "display_data"
    }
   ],
   "source": [
    "plt.plot(Matrix1['Tot enrollment'],Matrix1['Power Consumption'],'o')"
   ]
  },
  {
   "cell_type": "markdown",
   "metadata": {},
   "source": [
    "### Exportation for OVO2 "
   ]
  },
  {
   "cell_type": "code",
   "execution_count": null,
   "metadata": {},
   "outputs": [],
   "source": [
    "Matrix2 = Matrix2.rename(columns = {'Name of School' : 'Name'})\n",
    "Matrix2 = Matrix2[0:264]"
   ]
  },
  {
   "cell_type": "code",
   "execution_count": 365,
   "metadata": {},
   "outputs": [],
   "source": [
    "Cons = np.zeros([len(Matrix2)])\n",
    "Prod = np.zeros([len(Matrix2)])\n",
    "for i in range (len(nameOVO2)):\n",
    "    for j in range (len(Matrix2)):\n",
    "        if (nameOVO2[i].split()[0] == Matrix2['Name'][j].split()[0].upper()):\n",
    "            #print(Matrix['Name'][j], nameOVO1[i])\n",
    "            Cons[j] = f.Daily_Mean_Power(dfOVO2[i])[0]\n",
    "            Prod[j] = f.Daily_Mean_Power(dfOVO2[i])[1]\n",
    "Matrix2['Power Consumption'] = Cons\n",
    "Matrix2['Power Production'] = Prod"
   ]
  },
  {
   "cell_type": "code",
   "execution_count": 366,
   "metadata": {},
   "outputs": [
    {
     "name": "stdout",
     "output_type": "stream",
     "text": [
      "85\n"
     ]
    }
   ],
   "source": [
    "n=0\n",
    "L=[]\n",
    "for i in range (len(nameOVO2)):\n",
    "    for j in range (len(Matrix2)):\n",
    "        if ((nameOVO2[i].split()[0] == Matrix2['Name'][j].split()[0].upper()) or (nameOVO2[i].split()[1] == Matrix2['Name'][j].split()[0].upper())) and School1_Clinic0[i]==1:#\n",
    " #           print(Matrix2['Name'][j], nameOVO2[i])\n",
    "            L.append(i)\n",
    "            n+=1\n",
    "print(n)"
   ]
  },
  {
   "cell_type": "code",
   "execution_count": null,
   "metadata": {},
   "outputs": [],
   "source": [
    "import math\n",
    "Matrix22 = pd.DataFrame(data=Matrix2, columns = ['Name','County','Households','Is earby town national grid?','Grid distance',\n",
    "                                                 'Source of electricity?','Source of power','Teachers','Non-teaching staff',\n",
    "                                                 'Students (Female Day)','Students (Male Day)', 'Students (Female Boarding)',\n",
    "                                                  'Students (Male Boarding)'])\n",
    "Enrollment = []\n",
    "Day = [] \n",
    "Board = []\n",
    "for i in range (len(Matrix22)):\n",
    "    if math.isnan(Matrix22['Students (Male Boarding)'][i]):\n",
    "        Matrix22['Students (Male Boarding)'][i]=0\n",
    "    if math.isnan(Matrix22['Students (Female Boarding)'][i]):\n",
    "        Matrix22['Students (Female Boarding)'][i]=0\n",
    "    if math.isnan(Matrix22['Students (Male Day)'][i]):\n",
    "        Matrix22['Students (Male Day)'][i]=0\n",
    "    if math.isnan(Matrix22['Students (Female Day)'][i]):\n",
    "        Matrix22['Students (Female Day)'][i]=0\n",
    "    if math.isnan(Matrix22['Households'][i]):\n",
    "        Matrix22['Households'][i]=0\n",
    "Matrix22['Tot enrollment'] = Matrix22['Students (Male Boarding)']+Matrix22['Students (Female Boarding)']+Matrix22['Students (Male Day)']+Matrix22['Students (Female Day)']\n",
    "Matrix22['Total day Stud'] = Matrix22['Students (Male Day)']+Matrix22['Students (Female Day)']\n",
    "Matrix22['Total Board Stud'] = Matrix22['Students (Male Boarding)']+Matrix22['Students (Female Boarding)']\n",
    "Matrix22 = pd.DataFrame(data=Matrix22, columns = ['Name','County','Households','Is earby town national grid?','Grid distance',\n",
    "                                                 'Source of electricity?','Source of power','Teachers','Non-teaching staff',\n",
    "                                                 'Tot enrollment','Total day Stud', 'Total Board Stud'])\n",
    "Matrix22.drop(['Source of electricity?'], axis = 1, inplace = True)\n",
    "Matrix22 = Matrix22.rename(columns = {'Is earby town national grid?' : 'Grid','Grid distance':'Grid Distance','Non-teaching staff':'Non-teaching Staff'})"
   ]
  },
  {
   "cell_type": "code",
   "execution_count": null,
   "metadata": {},
   "outputs": [],
   "source": [
    "\n",
    "Matrix = Matrix22\n",
    "County = np.zeros([len(Matrix)])\n",
    "for i in range (len(Matrix)):\n",
    "    if (Matrix['County'][i]==('Kilifi')): \n",
    "        County[i] = 4\n",
    "    if (Matrix['County'][i]==('Turkana')): \n",
    "        County[i] = 0\n",
    "    if (Matrix['County'][i]==('Kwale')): \n",
    "        County[i] = 1\n",
    "    if (Matrix['County'][i]==('Isiolo')): \n",
    "        County[i] = 2\n",
    "    if (Matrix['County'][i]==('Taita Taveta')): \n",
    "        County[i] = 3\n",
    "Matrix['County'] = County\n",
    "\n",
    "Distance = np.zeros([len(Matrix)])\n",
    "for i in range (len(Matrix)):\n",
    "    if (Matrix['Grid Distance'][i]=='More than 10 km'): \n",
    "        Distance[i] = 10\n",
    "    if (Matrix['Grid Distance'][i]==('Under 1km')): \n",
    "        Distance[i] = 1\n",
    "    if (Matrix['Grid Distance'][i]==('1 - 5 km')): \n",
    "        Distance[i] = 3\n",
    "    if (Matrix['Grid Distance'][i]==('5 - 10 km')): \n",
    "        Distance[i] = 7.5\n",
    "Matrix['Grid Distance'] = Distance\n",
    "\n",
    "Grid = np.zeros([len(Matrix)])\n",
    "for i in range (len(Matrix)):\n",
    "    if (Matrix['Grid'][i]=='Yes'): \n",
    "        Grid[i] = 1\n",
    "    else:\n",
    "        Grid[i] = 0\n",
    "Matrix['Grid'] = Grid\n",
    "\n",
    "Source = np.zeros([len(Matrix)])\n",
    "for i in range (len(Matrix)):\n",
    "    if (Matrix['Source of power'][i]=='PV System'): \n",
    "        Source[i] = 1\n",
    "    if (Matrix['Source of power'][i]=='None'): \n",
    "        Source[i] = 0\n",
    "    if (Matrix['Source of power'][i]=='National Grid') or Matrix['Source of power'][i]=='National grid': \n",
    "        Source[i] = 2\n",
    "    if (Matrix['Source of power'][i]=='None'):\n",
    "        Source[i] = 3\n",
    "    if (Matrix['Source of power'][i]=='Other 1'): \n",
    "        Source[i] = 4\n",
    "Matrix['Source of power'] = Source"
   ]
  },
  {
   "cell_type": "markdown",
   "metadata": {},
   "source": [
    "# Creation of a new matrix, which will be a concatenation of the OVO1 and OVO2 matrix! \n"
   ]
  },
  {
   "cell_type": "code",
   "execution_count": null,
   "metadata": {},
   "outputs": [],
   "source": [
    "del Matrix1['Attendency']\n",
    "del Matrix1['Teacher Age']\n",
    "print(Matrix1.columns)\n",
    "print(Matrix.columns)"
   ]
  },
  {
   "cell_type": "code",
   "execution_count": null,
   "metadata": {},
   "outputs": [],
   "source": [
    "FinalMatrix=pd.concat([Matrix1,Matrix])\n",
    "FinalMatrix"
   ]
  },
  {
   "cell_type": "markdown",
   "metadata": {},
   "source": [
    "# Now, this matrix has to be standardised, and the cons/prod data are added"
   ]
  },
  {
   "cell_type": "code",
   "execution_count": null,
   "metadata": {},
   "outputs": [],
   "source": [
    "L = FinalMatrix['Name']\n",
    "del FinalMatrix['Name']\n",
    "FinalMatrix = (FinalMatrix - FinalMatrix.min())/(FinalMatrix.max()-FinalMatrix.min())\n",
    "FinalMatrix['Name'] = L\n",
    "FinalMatrix = FinalMatrix.set_index(FinalMatrix['Name'])"
   ]
  },
  {
   "cell_type": "code",
   "execution_count": null,
   "metadata": {},
   "outputs": [],
   "source": [
    "Cons = np.zeros([len(FinalMatrix)])\n",
    "Prod = np.zeros([len(FinalMatrix)])\n",
    "for i in range (len(nameOVO2)):\n",
    "    for j in range (len(FinalMatrix)):\n",
    "        if ((nameOVO2[i].split()[0] == FinalMatrix['Name'][j].split()[0].upper()) or (nameOVO2[i].split()[1] == FinalMatrix['Name'][j].split()[0].upper())) and School1_Clinic0[i]==1:\n",
    "            Cons[j] = f.Daily_Mean_Power(dfOVO2[i])[0]\n",
    "            Prod[j] = f.Daily_Mean_Power(dfOVO2[i])[1]\n",
    "for i in range (len(nameOVO1)):\n",
    "    for j in range (len(FinalMatrix)):\n",
    "        if ((nameOVO1[i].split()[0] == FinalMatrix['Name'][j].split()[0].upper())):\n",
    "            Cons[j] = f.Daily_Mean_Power(dfOVO1[i])[0]\n",
    "            Prod[j] = f.Daily_Mean_Power(dfOVO1[i])[1]\n",
    "FinalMatrix['Power Consumption'] = Cons\n",
    "FinalMatrix['Power Production'] = Prod\n",
    "del FinalMatrix['Name']"
   ]
  },
  {
   "cell_type": "code",
   "execution_count": null,
   "metadata": {},
   "outputs": [],
   "source": [
    "#Drop all the raws with no values for power:\n",
    "#Matrix.drop(['Migodomani Primary *','Gambella Primary *','Kalokor Primary'], inplace=True)\n",
    "ToDel=[]\n",
    "for i in range (len(FinalMatrix)):\n",
    "    if FinalMatrix['Power Consumption'][i]==0:\n",
    "        ToDel.append(FinalMatrix.index[i])\n",
    "FinalMatrix.drop(ToDel, inplace=True)"
   ]
  },
  {
   "cell_type": "code",
   "execution_count": null,
   "metadata": {},
   "outputs": [],
   "source": [
    "FinalMatrix.corr()['Power Consumption']"
   ]
  },
  {
   "cell_type": "code",
   "execution_count": 346,
   "metadata": {},
   "outputs": [],
   "source": []
  },
  {
   "cell_type": "code",
   "execution_count": 293,
   "metadata": {},
   "outputs": [],
   "source": []
  },
  {
   "cell_type": "code",
   "execution_count": 455,
   "metadata": {},
   "outputs": [],
   "source": [
    "L = np.zeros([len(FinalMatrix)], dtype=float)\n",
    "for i in range (len(FinalMatrix)):\n",
    "    if FinalMatrix['Power Consumption'][i]==0:\n",
    "        L[i]=0\n",
    "    if FinalMatrix['Power Consumption'][i]!=0:\n",
    "        L[i] = FinalMatrix['Power Consumption'][i]\n",
    "\n",
    "X = np.zeros([len(FinalMatrix), len(FinalMatrix.columns)-2], dtype=float)\n",
    "for i in range (len(FinalMatrix)):\n",
    "    c=FinalMatrix.columns\n",
    "    for j in range (len(c)-2):\n",
    "        X[i,j] = (FinalMatrix[c[j]][i])\n",
    "for i in range (len(FinalMatrix)):\n",
    "    if (math.isnan(X[i][3])):\n",
    "        X[i][3] = 0"
   ]
  },
  {
   "cell_type": "code",
   "execution_count": 405,
   "metadata": {},
   "outputs": [],
   "source": [
    "from numpy import *\n",
    "def poly_exp(X, degree):\n",
    "    N,D = X.shape\n",
    "    for d in range(2,degree+1):\n",
    "        X = column_stack([X,X[:,0:D]**d])\n",
    "    return X\n",
    "def computeCost(X, y, theta):\n",
    "    m = y.size  # number of training examples\n",
    "    J = (1/(2*m))*sum((np.dot(X,theta)-y)**2)\n",
    "    # ===========================================================\n",
    "    return J\n",
    "def gradientDescent(X, y, theta, alpha, num_iters):\n",
    "    m = y.shape[0]  # number of training examples\n",
    "    n=len(theta)\n",
    "\n",
    "    theta = theta.copy()\n",
    "    J_history = [] # Use a python list to save cost in every iteration\n",
    "    J_history.append(computeCost(X, y, theta))\n",
    "    for i in range(num_iters):\n",
    "        theta = theta - alpha*(1/m)*np.dot(np.dot(X,theta)-y,X)\n",
    "        J_history.append(computeCost(X, y, theta))\n",
    "    return theta, J_history"
   ]
  },
  {
   "cell_type": "code",
   "execution_count": 416,
   "metadata": {},
   "outputs": [
    {
     "data": {
      "text/plain": [
       "(97, 50)"
      ]
     },
     "execution_count": 416,
     "metadata": {},
     "output_type": "execute_result"
    }
   ],
   "source": [
    "degree = 5\n",
    "x = poly_exp(X, degree)\n",
    "x.shape"
   ]
  },
  {
   "cell_type": "code",
   "execution_count": 418,
   "metadata": {},
   "outputs": [],
   "source": [
    "# initialize fitting parameters\n",
    "theta = np.zeros(50)\n",
    "\n",
    "# some gradient descent settings\n",
    "iterations = 50000\n",
    "alpha = 0.2\n",
    "\n",
    "theta, J_history = gradientDescent(x ,L, theta, alpha, iterations)"
   ]
  },
  {
   "cell_type": "code",
   "execution_count": 419,
   "metadata": {},
   "outputs": [
    {
     "data": {
      "text/plain": [
       "147439.39314398522"
      ]
     },
     "execution_count": 419,
     "metadata": {},
     "output_type": "execute_result"
    }
   ],
   "source": [
    "J_history[15000]"
   ]
  },
  {
   "cell_type": "code",
   "execution_count": 420,
   "metadata": {},
   "outputs": [
    {
     "name": "stdout",
     "output_type": "stream",
     "text": [
      "667.895026871873 and the correct answer is 447.061650345457\n",
      "831.6479135176107 and the correct answer is 511.40455293929006\n",
      "1133.797312643248 and the correct answer is 763.5995770417792\n",
      "794.9895484118088 and the correct answer is 291.8359916389508\n",
      "744.1986998662942 and the correct answer is 365.14982339203686\n",
      "802.8661062345693 and the correct answer is 912.0741618179965\n",
      "437.4811788293305 and the correct answer is 926.4217884288609\n",
      "1618.1649285142598 and the correct answer is 1799.3671262599698\n",
      "1647.512391070429 and the correct answer is 1648.2876633725682\n",
      "1113.060285822239 and the correct answer is 1094.202875708927\n",
      "181.25876760505525 and the correct answer is 167.52785541793202\n",
      "948.168051958408 and the correct answer is 668.1104445841821\n",
      "568.596409759603 and the correct answer is 559.9611709323152\n",
      "1356.3270037020516 and the correct answer is 1364.7887445280908\n",
      "1169.2706297992543 and the correct answer is 1636.734966146231\n",
      "1215.6315808263696 and the correct answer is 1007.5628496568492\n",
      "1320.5674178698528 and the correct answer is 1567.7836286809652\n",
      "453.6313551384435 and the correct answer is 1158.128212003908\n",
      "878.0878194005003 and the correct answer is 964.5485300429668\n",
      "653.8589196920332 and the correct answer is 735.324796862471\n",
      "1696.9917213610288 and the correct answer is 1351.173895220095\n",
      "1166.829337616408 and the correct answer is 796.5150689986065\n",
      "1518.171616770569 and the correct answer is 1897.219760358681\n",
      "1351.5375296227 and the correct answer is 1418.546031993098\n",
      "1876.3877489430008 and the correct answer is 1472.1210722557992\n",
      "1246.8593675018722 and the correct answer is 679.4642801363258\n",
      "786.8215365068995 and the correct answer is 588.0902287676336\n",
      "1175.1775200449886 and the correct answer is 631.4052689641182\n",
      "834.7721042566822 and the correct answer is 1545.4858578730154\n",
      "785.8340031884322 and the correct answer is 853.8216073347025\n",
      "1029.5203653549609 and the correct answer is 580.7611677490513\n",
      "1198.270933965204 and the correct answer is 986.9427249369173\n",
      "1021.9483361507221 and the correct answer is 828.1376311864096\n",
      "990.9803179800105 and the correct answer is 816.7765024779707\n",
      "1738.838467924031 and the correct answer is 3378.2688766876436\n",
      "827.7745717029961 and the correct answer is 763.7493147649873\n",
      "1746.3936531181528 and the correct answer is 3125.530675933958\n",
      "1857.2139633442275 and the correct answer is 1663.5827774019804\n",
      "1078.3867597330575 and the correct answer is 772.6835910564309\n",
      "911.243631439293 and the correct answer is 709.2727336801485\n",
      "1309.1074508922877 and the correct answer is 1915.0668875981123\n",
      "850.7091247811172 and the correct answer is 556.2097416966403\n",
      "1346.5041664398345 and the correct answer is 1457.783414727911\n",
      "883.4064508937096 and the correct answer is 435.59652737455303\n",
      "1010.0303047392897 and the correct answer is 889.3213571557997\n",
      "1312.6145081636355 and the correct answer is 1058.821055404954\n",
      "968.1044676860306 and the correct answer is 2232.996146263289\n",
      "1075.1559840958366 and the correct answer is 678.4090482795015\n",
      "652.2953793513275 and the correct answer is 711.576069320786\n",
      "720.4947278821061 and the correct answer is 385.26724261082063\n",
      "613.0927848076249 and the correct answer is 528.3993026520715\n",
      "1187.7988450724135 and the correct answer is 381.00670561947845\n",
      "930.3762729946573 and the correct answer is 560.1387544857085\n",
      "931.6325469115311 and the correct answer is 1335.226781498543\n",
      "831.2257154275628 and the correct answer is 333.2805530761235\n",
      "1003.0652284777051 and the correct answer is 679.4642801363258\n",
      "952.7531902686369 and the correct answer is 542.5387454803142\n",
      "1176.0923398489288 and the correct answer is 2977.5355227340888\n",
      "962.2987589183145 and the correct answer is 2673.395957071327\n",
      "752.6422549807635 and the correct answer is 794.4619992925698\n",
      "1114.554317052246 and the correct answer is 762.9956266259659\n",
      "800.0135666813011 and the correct answer is 1067.5042349893772\n",
      "642.2116074835643 and the correct answer is 799.9211335593944\n",
      "812.0401642552365 and the correct answer is 576.1794083351795\n",
      "828.1094547414893 and the correct answer is 741.7655712009316\n",
      "568.352936379363 and the correct answer is 524.9114267623859\n",
      "667.4073851859706 and the correct answer is 520.6874558629497\n",
      "940.3962110917333 and the correct answer is 558.6944665548102\n",
      "926.3731745169438 and the correct answer is 1961.9730597542816\n",
      "1162.0757550330936 and the correct answer is 1382.1612088029433\n",
      "749.9254019313155 and the correct answer is 472.1895735901883\n",
      "884.5052242925938 and the correct answer is 220.6885650449149\n",
      "1290.9423670661627 and the correct answer is 2191.937275947267\n",
      "814.3878575644364 and the correct answer is 417.3930092664462\n",
      "610.7366930135391 and the correct answer is 958.4911353766304\n",
      "1118.1383875419538 and the correct answer is 600.5697119931988\n",
      "1087.3514212644482 and the correct answer is 1851.017988524774\n",
      "1186.6318252484311 and the correct answer is 720.5224302302126\n",
      "1296.2573458722482 and the correct answer is 916.8217094341854\n",
      "1546.0352842034713 and the correct answer is 1673.7304777461381\n",
      "418.71334921913575 and the correct answer is 329.163713500914\n",
      "595.6135213996463 and the correct answer is 582.171390913719\n",
      "992.0274693220733 and the correct answer is 610.1483779706011\n",
      "643.6642327385084 and the correct answer is 708.4629248757715\n",
      "1102.107315484984 and the correct answer is 445.6950019237145\n",
      "1207.4201312746918 and the correct answer is 1387.7309491972176\n",
      "876.5322312882777 and the correct answer is 1068.730955821719\n",
      "811.3874469558052 and the correct answer is 1434.9503708502102\n",
      "930.2110070086595 and the correct answer is 309.56041502803623\n",
      "337.0401848365898 and the correct answer is 594.2319952224132\n",
      "768.4424288349476 and the correct answer is 339.521312756875\n",
      "1127.8869075229732 and the correct answer is 150.77924832633818\n",
      "809.0533149242367 and the correct answer is 541.7159924207665\n",
      "-204.48274555001035 and the correct answer is 465.15865070634504\n",
      "539.9798293055845 and the correct answer is 93.54471017565572\n",
      "236.18164960298475 and the correct answer is 1279.248602153375\n",
      "1119.156179718757 and the correct answer is 585.5707123572031\n"
     ]
    }
   ],
   "source": [
    "E = 0\n",
    "for i in range (len(x)):\n",
    "    E+= (max(np.dot(x[i],theta),L[i]) - min(np.dot(x[i],theta),L[i]))/L[i]\n",
    "    print(np.dot(x[i],theta),'and the correct answer is',L[i])"
   ]
  },
  {
   "cell_type": "markdown",
   "metadata": {},
   "source": [
    "# Now, I have a complete matrix with all the data available; I have to try different algorithms"
   ]
  },
  {
   "cell_type": "markdown",
   "metadata": {},
   "source": [
    "# MultiClass Classification:"
   ]
  },
  {
   "cell_type": "code",
   "execution_count": 421,
   "metadata": {},
   "outputs": [],
   "source": [
    "def sigmoid(z):\n",
    "    z = np.array(z)\n",
    "    g = np.zeros(z.shape)\n",
    "    g = 1/(1+math.exp(1)**(-z))\n",
    "    return g"
   ]
  },
  {
   "cell_type": "code",
   "execution_count": 422,
   "metadata": {},
   "outputs": [],
   "source": [
    "def lrCostFunction(theta, X, y, lambda_):\n",
    "    m = X.shape[0]  \n",
    "    if y.dtype == bool:\n",
    "        y = y.astype(int)\n",
    "    grad = np.zeros(theta.shape)\n",
    "    n=len(grad)\n",
    "    T=theta*theta\n",
    "    J = (1/m)*sum(-y*np.log(sigmoid(np.dot(X,np.transpose(theta)))) - (1-y)*np.log(1-sigmoid(np.dot(X,np.transpose(theta))))) + lambda_*(1/(2*m))*(sum(theta*theta)-T[0])\n",
    "    grad = (1/m)*(np.dot(sigmoid(np.dot(X,np.transpose(theta)))-y,X)) + lambda_*(1/m)*theta\n",
    "    grad[0]=grad[0]-lambda_*(1/m)*theta[0]\n",
    "    return J, grad"
   ]
  },
  {
   "cell_type": "code",
   "execution_count": 423,
   "metadata": {},
   "outputs": [],
   "source": [
    "def oneVsAll(X, y, num_labels, lambda_):\n",
    "    m, n = X.shape\n",
    "    all_theta = np.zeros((num_labels, n + 1))\n",
    "    X = np.concatenate([np.ones((m, 1)), X], axis=1)\n",
    "    initial_theta = np.zeros(X.shape[1])\n",
    "    options = {'maxiter': 50}\n",
    "    # ====================== YOUR CODE HERE ======================\n",
    "    for i in range (num_labels):\n",
    "        yy=(y==i)\n",
    "        res = optimize.minimize(lrCostFunction,initial_theta,(X, yy, lambda_),jac=True,method='TNC',options=options)\n",
    "        all_theta[i] = res.x\n",
    "    return all_theta"
   ]
  },
  {
   "cell_type": "code",
   "execution_count": 440,
   "metadata": {},
   "outputs": [],
   "source": [
    "def predictOneVsAll(all_theta, X):\n",
    "    m,K = X.shape;\n",
    "    num_labels = all_theta.shape[0]\n",
    "    X = np.concatenate([np.ones((m, 1)), X], axis=1)\n",
    "    p = np.zeros(m)\n",
    "    Mult = np.dot(X,np.transpose(all_theta))\n",
    "    p=np.argmax(Mult, axis=1)\n",
    "    return p"
   ]
  },
  {
   "cell_type": "code",
   "execution_count": 502,
   "metadata": {},
   "outputs": [],
   "source": [
    "def LogicalTransformation(L):\n",
    "    l=np.zeros(len(L))\n",
    "    for i in range (len(L)):\n",
    "        for j in range (34):\n",
    "            if L[i]<100*(j+1) and L[i]>100*j:\n",
    "                l[i] = j\n",
    "    return(l)\n",
    "l=LogicalTransformation(L)"
   ]
  },
  {
   "cell_type": "code",
   "execution_count": 495,
   "metadata": {},
   "outputs": [],
   "source": [
    "def LogicalTransformation(L):\n",
    "    l=np.zeros(len(L))\n",
    "    for i in range (len(L)):\n",
    "        for j in range (17):\n",
    "            if L[i]<100*3*(j+1) and L[i]>100*3*j:\n",
    "                l[i] = j\n",
    "    return(l)\n",
    "l=LogicalTransformation(L)"
   ]
  },
  {
   "cell_type": "code",
   "execution_count": 503,
   "metadata": {},
   "outputs": [
    {
     "data": {
      "text/plain": [
       "33.0"
      ]
     },
     "execution_count": 503,
     "metadata": {},
     "output_type": "execute_result"
    }
   ],
   "source": [
    "l.max()"
   ]
  },
  {
   "cell_type": "code",
   "execution_count": 504,
   "metadata": {},
   "outputs": [],
   "source": [
    "X=X\n",
    "y=l\n",
    "num_labels = 34\n",
    "lambda_ = 0.1\n",
    "all_theta = oneVsAll(X, y, num_labels, lambda_)"
   ]
  },
  {
   "cell_type": "code",
   "execution_count": 505,
   "metadata": {},
   "outputs": [
    {
     "name": "stdout",
     "output_type": "stream",
     "text": [
      "Training Set Accuracy: 30.93%\n"
     ]
    }
   ],
   "source": [
    "pred = predictOneVsAll(all_theta, X)\n",
    "print('Training Set Accuracy: {:.2f}%'.format(np.mean(pred == y) * 100))"
   ]
  },
  {
   "cell_type": "code",
   "execution_count": 489,
   "metadata": {},
   "outputs": [
    {
     "data": {
      "text/plain": [
       "array([1, 1, 2, 1, 1, 2, 1, 5, 5, 3, 0, 3, 5, 2, 2, 1, 1, 1, 1, 2, 2, 2,\n",
       "       1, 2, 1, 2, 1, 2, 1, 2, 1, 2, 1, 1, 1, 1, 1, 1, 2, 2, 2, 2, 2, 1,\n",
       "       1, 2, 1, 2, 2, 1, 1, 1, 1, 2, 1, 1, 2, 2, 2, 1, 2, 1, 1, 1, 1, 1,\n",
       "       1, 1, 2, 1, 1, 2, 2, 2, 1, 2, 1, 1, 2, 2, 1, 2, 1, 1, 1, 2, 1, 2,\n",
       "       1, 1, 1, 1, 1, 1, 1, 1, 1])"
      ]
     },
     "execution_count": 489,
     "metadata": {},
     "output_type": "execute_result"
    }
   ],
   "source": [
    "pred"
   ]
  },
  {
   "cell_type": "code",
   "execution_count": 490,
   "metadata": {},
   "outputs": [
    {
     "data": {
      "text/plain": [
       "array([ 1.,  1.,  2.,  0.,  1.,  3.,  3.,  5.,  5.,  3.,  0.,  2.,  1.,\n",
       "        4.,  5.,  3.,  5.,  3.,  3.,  2.,  4.,  2.,  6.,  4.,  4.,  2.,\n",
       "        1.,  2.,  5.,  2.,  1.,  3.,  2.,  2., 11.,  2., 10.,  5.,  2.,\n",
       "        2.,  6.,  1.,  4.,  1.,  2.,  3.,  7.,  2.,  2.,  1.,  1.,  1.,\n",
       "        1.,  4.,  1.,  2.,  1.,  9.,  8.,  2.,  2.,  3.,  2.,  1.,  2.,\n",
       "        1.,  1.,  1.,  6.,  4.,  1.,  0.,  7.,  1.,  3.,  2.,  6.,  2.,\n",
       "        3.,  5.,  1.,  1.,  2.,  2.,  1.,  4.,  3.,  4.,  1.,  1.,  1.,\n",
       "        0.,  1.,  1.,  0.,  4.,  1.])"
      ]
     },
     "execution_count": 490,
     "metadata": {},
     "output_type": "execute_result"
    }
   ],
   "source": [
    "y"
   ]
  },
  {
   "cell_type": "markdown",
   "metadata": {},
   "source": [
    "# Neural Network:"
   ]
  },
  {
   "cell_type": "code",
   "execution_count": 508,
   "metadata": {},
   "outputs": [],
   "source": [
    "import tensorflow as tf\n",
    "from tensorflow import keras"
   ]
  },
  {
   "cell_type": "code",
   "execution_count": null,
   "metadata": {},
   "outputs": [
    {
     "name": "stdout",
     "output_type": "stream",
     "text": [
      "Epoch 1/200\n"
     ]
    }
   ],
   "source": [
    "y_train = l\n",
    "x_train = X\n",
    "# YOUR CODE SHOULD END HERE\n",
    "model = tf.keras.models.Sequential([\n",
    "    # YOUR CODE SHOULD START HERE\n",
    "keras.layers.Dense(units=1, input_shape=[10]),tf.keras.layers.Dense(40, activation=tf.nn.relu), tf.keras.layers.Dense(40, activation=tf.nn.relu), tf.keras.layers.Dense(1, activation=tf.nn.relu)\n",
    "    # YOUR CODE SHOULD END HERE tf.keras.layerstf.keras.layers.Dense(6, activation=tf.nn.relu),\n",
    "])\n",
    "model.compile(optimizer='adam',\n",
    "              loss='mse',\n",
    "              metrics=['accuracy'])\n",
    "# model fitting\n",
    "history = model.fit(x_train, y_train, epochs=200)"
   ]
  },
  {
   "cell_type": "code",
   "execution_count": 1,
   "metadata": {},
   "outputs": [
    {
     "ename": "NameError",
     "evalue": "name 'np' is not defined",
     "output_type": "error",
     "traceback": [
      "\u001b[0;31m---------------------------------------------------------------------------\u001b[0m",
      "\u001b[0;31mNameError\u001b[0m                                 Traceback (most recent call last)",
      "\u001b[0;32m<ipython-input-1-3c59e055e7cb>\u001b[0m in \u001b[0;36m<module>\u001b[0;34m\u001b[0m\n\u001b[0;32m----> 1\u001b[0;31m \u001b[0mL2\u001b[0m \u001b[0;34m=\u001b[0m \u001b[0mnp\u001b[0m\u001b[0;34m.\u001b[0m\u001b[0marray\u001b[0m\u001b[0;34m(\u001b[0m\u001b[0;34m[\u001b[0m\u001b[0;34m[\u001b[0m\u001b[0;36m1\u001b[0m\u001b[0;34m,\u001b[0m\u001b[0;36m2\u001b[0m\u001b[0;34m,\u001b[0m\u001b[0;36m3\u001b[0m\u001b[0;34m,\u001b[0m\u001b[0;36m4\u001b[0m\u001b[0;34m,\u001b[0m\u001b[0;36m5\u001b[0m\u001b[0;34m,\u001b[0m\u001b[0;36m6\u001b[0m\u001b[0;34m,\u001b[0m\u001b[0;36m7\u001b[0m\u001b[0;34m,\u001b[0m\u001b[0;36m8\u001b[0m\u001b[0;34m,\u001b[0m\u001b[0;36m9\u001b[0m\u001b[0;34m,\u001b[0m\u001b[0;36m10\u001b[0m\u001b[0;34m]\u001b[0m\u001b[0;34m]\u001b[0m\u001b[0;34m)\u001b[0m\u001b[0;34m\u001b[0m\u001b[0;34m\u001b[0m\u001b[0m\n\u001b[0m\u001b[1;32m      2\u001b[0m \u001b[0mmodel\u001b[0m\u001b[0;34m.\u001b[0m\u001b[0mpredict\u001b[0m\u001b[0;34m(\u001b[0m\u001b[0mL2\u001b[0m\u001b[0;34m)\u001b[0m\u001b[0;34m\u001b[0m\u001b[0;34m\u001b[0m\u001b[0m\n",
      "\u001b[0;31mNameError\u001b[0m: name 'np' is not defined"
     ]
    }
   ],
   "source": [
    "L2 = np.array([[1,2,3,4,5,6,7,8,9,10]])\n",
    "model.predict(L2)"
   ]
  },
  {
   "cell_type": "code",
   "execution_count": 529,
   "metadata": {},
   "outputs": [
    {
     "data": {
      "text/plain": [
       "array([[9.246783]], dtype=float32)"
      ]
     },
     "execution_count": 529,
     "metadata": {},
     "output_type": "execute_result"
    }
   ],
   "source": [
    "X[0]\n",
    "model.predict([[X[0]]])"
   ]
  },
  {
   "cell_type": "code",
   "execution_count": 536,
   "metadata": {},
   "outputs": [
    {
     "name": "stdout",
     "output_type": "stream",
     "text": [
      "[[8.621776]] Should be 4.0\n",
      "[[6.958132]] Should be 5.0\n",
      "[[8.319171]] Should be 7.0\n",
      "[[7.2959123]] Should be 2.0\n",
      "[[8.367638]] Should be 3.0\n",
      "[[8.983566]] Should be 9.0\n",
      "[[6.5593705]] Should be 9.0\n",
      "[[12.14551]] Should be 17.0\n",
      "[[9.479635]] Should be 16.0\n",
      "[[12.632785]] Should be 10.0\n",
      "[[8.03523]] Should be 1.0\n",
      "[[8.748185]] Should be 6.0\n",
      "[[13.545927]] Should be 5.0\n",
      "[[10.943884]] Should be 13.0\n",
      "[[11.211451]] Should be 16.0\n",
      "[[10.210475]] Should be 10.0\n",
      "[[5.171664]] Should be 15.0\n",
      "[[5.810707]] Should be 11.0\n",
      "[[6.27851]] Should be 9.0\n",
      "[[11.131813]] Should be 7.0\n",
      "[[11.957762]] Should be 13.0\n",
      "[[9.1583395]] Should be 7.0\n",
      "[[11.4138775]] Should be 18.0\n",
      "[[9.855076]] Should be 14.0\n",
      "[[9.462757]] Should be 14.0\n",
      "[[11.311897]] Should be 6.0\n",
      "[[9.656807]] Should be 5.0\n",
      "[[8.787908]] Should be 6.0\n",
      "[[9.256941]] Should be 15.0\n",
      "[[11.2604265]] Should be 8.0\n",
      "[[11.477693]] Should be 5.0\n",
      "[[8.950047]] Should be 9.0\n",
      "[[9.33216]] Should be 8.0\n",
      "[[9.637236]] Should be 8.0\n",
      "[[10.803618]] Should be 33.0\n",
      "[[9.887526]] Should be 7.0\n",
      "[[10.033478]] Should be 31.0\n",
      "[[10.253656]] Should be 16.0\n",
      "[[10.805862]] Should be 7.0\n",
      "[[9.575439]] Should be 7.0\n",
      "[[8.886343]] Should be 19.0\n",
      "[[10.652395]] Should be 5.0\n",
      "[[10.160828]] Should be 14.0\n",
      "[[9.279429]] Should be 4.0\n",
      "[[8.006073]] Should be 8.0\n",
      "[[9.920088]] Should be 10.0\n",
      "[[9.151864]] Should be 22.0\n",
      "[[9.637926]] Should be 6.0\n",
      "[[7.694681]] Should be 7.0\n",
      "[[10.1299305]] Should be 3.0\n",
      "[[7.4198422]] Should be 5.0\n",
      "[[9.751204]] Should be 3.0\n",
      "[[10.288601]] Should be 5.0\n",
      "[[9.924419]] Should be 13.0\n",
      "[[7.5479317]] Should be 3.0\n",
      "[[10.026854]] Should be 6.0\n",
      "[[10.344471]] Should be 5.0\n",
      "[[10.20126]] Should be 29.0\n",
      "[[9.886232]] Should be 26.0\n",
      "[[10.087214]] Should be 7.0\n",
      "[[9.121614]] Should be 7.0\n",
      "[[6.61535]] Should be 10.0\n",
      "[[6.595439]] Should be 7.0\n",
      "[[7.5444794]] Should be 5.0\n",
      "[[7.613882]] Should be 7.0\n",
      "[[6.587068]] Should be 5.0\n",
      "[[8.07998]] Should be 5.0\n",
      "[[9.4956875]] Should be 5.0\n",
      "[[9.864544]] Should be 19.0\n",
      "[[8.017502]] Should be 13.0\n",
      "[[7.525195]] Should be 4.0\n",
      "[[9.951422]] Should be 2.0\n",
      "[[10.201481]] Should be 21.0\n",
      "[[10.267817]] Should be 4.0\n",
      "[[9.271242]] Should be 9.0\n",
      "[[10.218115]] Should be 6.0\n",
      "[[9.959582]] Should be 18.0\n",
      "[[9.598497]] Should be 7.0\n",
      "[[10.0443]] Should be 9.0\n",
      "[[9.520697]] Should be 16.0\n",
      "[[8.95147]] Should be 3.0\n",
      "[[9.188138]] Should be 5.0\n",
      "[[8.735743]] Should be 6.0\n",
      "[[9.214191]] Should be 7.0\n",
      "[[9.574219]] Should be 4.0\n",
      "[[8.902336]] Should be 13.0\n",
      "[[8.612246]] Should be 10.0\n",
      "[[6.8141494]] Should be 14.0\n",
      "[[7.449704]] Should be 3.0\n",
      "[[8.484513]] Should be 5.0\n",
      "[[6.3025603]] Should be 3.0\n",
      "[[8.278355]] Should be 1.0\n",
      "[[8.166478]] Should be 5.0\n",
      "[[7.089346]] Should be 4.0\n",
      "[[8.0495615]] Should be 0.0\n",
      "[[5.865917]] Should be 12.0\n",
      "[[8.318623]] Should be 5.0\n"
     ]
    }
   ],
   "source": [
    "for i in range (len(l)):\n",
    "    print(model.predict([[X[i]]]),'Should be',l[i])"
   ]
  },
  {
   "cell_type": "code",
   "execution_count": null,
   "metadata": {},
   "outputs": [],
   "source": []
  }
 ],
 "metadata": {
  "kernelspec": {
   "display_name": "Python 3",
   "language": "python",
   "name": "python3"
  },
  "language_info": {
   "codemirror_mode": {
    "name": "ipython",
    "version": 3
   },
   "file_extension": ".py",
   "mimetype": "text/x-python",
   "name": "python",
   "nbconvert_exporter": "python",
   "pygments_lexer": "ipython3",
   "version": "3.7.1"
  }
 },
 "nbformat": 4,
 "nbformat_minor": 4
}
